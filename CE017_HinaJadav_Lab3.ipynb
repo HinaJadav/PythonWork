{
  "nbformat": 4,
  "nbformat_minor": 0,
  "metadata": {
    "colab": {
      "provenance": [],
      "authorship_tag": "ABX9TyO7+5EYngad5Oh5q8NcnQxm",
      "include_colab_link": true
    },
    "kernelspec": {
      "name": "python3",
      "display_name": "Python 3"
    },
    "language_info": {
      "name": "python"
    }
  },
  "cells": [
    {
      "cell_type": "markdown",
      "metadata": {
        "id": "view-in-github",
        "colab_type": "text"
      },
      "source": [
        "<a href=\"https://colab.research.google.com/github/HinaJadav/PythonWork/blob/master/CE017_HinaJadav_Lab3.ipynb\" target=\"_parent\"><img src=\"https://colab.research.google.com/assets/colab-badge.svg\" alt=\"Open In Colab\"/></a>"
      ]
    },
    {
      "cell_type": "code",
      "execution_count": null,
      "metadata": {
        "colab": {
          "base_uri": "https://localhost:8080/"
        },
        "id": "6T7wJTZjmOQS",
        "outputId": "8116dfea-71bd-449f-f043-3eaa5875d457"
      },
      "outputs": [
        {
          "output_type": "stream",
          "name": "stdout",
          "text": [
            "Weather:  [2 2 0 1 1 1 0 2 2 1 2 0 0 1]\n",
            "temp:  [1 1 1 2 0 0 0 2 0 2 2 2 1 2]\n",
            "play:  [0 0 1 1 1 0 1 0 1 1 1 1 1 0]\n",
            "Features:  ((2, 1), (2, 1), (0, 1), (1, 2), (1, 0), (1, 0), (0, 0), (2, 2), (2, 0), (1, 2), (2, 2), (0, 2), (0, 1), (1, 2))\n"
          ]
        },
        {
          "output_type": "stream",
          "name": "stderr",
          "text": [
            "/usr/local/lib/python3.10/dist-packages/sklearn/naive_bayes.py:629: FutureWarning: The default value for `force_alpha` will change to `True` in 1.4. To suppress this warning, manually set the value of `force_alpha`.\n",
            "  warnings.warn(\n",
            "/usr/local/lib/python3.10/dist-packages/sklearn/naive_bayes.py:635: UserWarning: alpha too small will result in numeric errors, setting alpha = 1.0e-10. Use `force_alpha=True` to keep alpha unchanged.\n",
            "  warnings.warn(\n"
          ]
        },
        {
          "output_type": "execute_result",
          "data": {
            "text/plain": [
              "{'alpha': 0,\n",
              " 'class_prior': None,\n",
              " 'fit_prior': True,\n",
              " 'force_alpha': 'warn',\n",
              " 'min_categories': None}"
            ]
          },
          "metadata": {},
          "execution_count": 1
        }
      ],
      "source": [
        "from sklearn import preprocessing\n",
        "from sklearn.naive_bayes import GaussianNB, MultinomialNB, CategoricalNB\n",
        "\n",
        "weather = ['Sunny', 'Sunny', 'Overcast', 'Rainy', 'Rainy', 'Rainy', 'Overcast', 'Sunny', 'Sunny', 'Rainy', 'Sunny', 'Overcast', 'Overcast', 'Rainy']\n",
        "\n",
        "temp = ['Hot', 'Hot', 'Hot', 'Mild', 'Cool', 'Cool', 'Cool', 'Mild', 'Cool', 'Mild', 'Mild', 'Mild', 'Hot', 'Mild']\n",
        "\n",
        "play = ['No', 'No', 'Yes', 'Yes', 'Yes', 'No', 'Yes', 'No', 'Yes', 'Yes', 'Yes', 'Yes', 'Yes', 'No']\n",
        "\n",
        "le = preprocessing.LabelEncoder()\n",
        "#preprocessing.LableEncoder : covert data into 0 to n based on different values in data and give each defferent value from 0 to n\n",
        "\n",
        "weather_encode = le.fit_transform(weather)\n",
        "#fit_transform : it use to transfer data into a model into single step\n",
        "\n",
        "print(\"Weather: \", weather_encode)\n",
        "\n",
        "temp_encode = le.fit_transform(temp)\n",
        "\n",
        "print(\"temp: \", temp_encode)\n",
        "\n",
        "label = le.fit_transform(play)\n",
        "\n",
        "print(\"play: \", label)\n",
        "\n",
        "feature = tuple(zip(weather_encode, temp_encode))\n",
        "print(\"Features: \", feature)\n",
        "\n",
        "# model = MultinomialNB(alpha=0, fit_prior=True)\n",
        "model = CategoricalNB(alpha=0, fit_prior=True)\n",
        "model.fit(feature, label) #here, feature and label are mode parameters\n",
        "\n",
        "model.get_params()\n",
        "\n",
        "# in this answer if we use MultinomialNB then we get output = 1 which is wrong but using CategoricalNB we get right output and exect probability of play=yes\n",
        "\n"
      ]
    },
    {
      "cell_type": "code",
      "source": [
        "\n",
        "# 1.1 Will you play if the temperature is ‘Hot’ and weather is ‘overcast’?\n",
        "predicted = model.predict([[0,1]]) # 0 = overcast, 1 = hot\n",
        "print(\"predicted value: \", predicted) # output = 1\n"
      ],
      "metadata": {
        "colab": {
          "base_uri": "https://localhost:8080/"
        },
        "id": "kebK0Bb2mT2R",
        "outputId": "3b916a58-6690-43e8-f802-593c3c3750a4"
      },
      "execution_count": null,
      "outputs": [
        {
          "output_type": "stream",
          "name": "stdout",
          "text": [
            "predicted value:  [1]\n"
          ]
        }
      ]
    },
    {
      "cell_type": "code",
      "source": [
        "#1.2 Will you play if the temperature is ‘Mild’ and weather is ‘Sunny’?\n",
        "predicted = model.predict([[2,2]]) # 2 = Sunny, 2 = mild\n",
        "print(\"predicted value: \", predicted) # output = 0\n",
        "predicted_prob = model.predict_proba([[2,2]]) # 2 = Sunny, 2 = mild\n",
        "print(\"predicted_prob value: \", predicted_prob) # output = [[0.57446809 0.42553191]]\n"
      ],
      "metadata": {
        "colab": {
          "base_uri": "https://localhost:8080/"
        },
        "id": "d4wxvyhZmY3r",
        "outputId": "750f6edd-32f8-4ce7-af7a-dd05ac818734"
      },
      "execution_count": null,
      "outputs": [
        {
          "output_type": "stream",
          "name": "stdout",
          "text": [
            "predicted value:  [0]\n",
            "predicted_prob value:  [[0.57446809 0.42553191]]\n"
          ]
        }
      ]
    },
    {
      "cell_type": "code",
      "source": [],
      "metadata": {
        "id": "0EmVXAbEySjz"
      },
      "execution_count": null,
      "outputs": []
    }
  ]
}